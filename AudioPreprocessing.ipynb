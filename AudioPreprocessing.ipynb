{
 "cells": [
  {
   "cell_type": "markdown",
   "id": "09123ff9",
   "metadata": {},
   "source": [
    "# library importing"
   ]
  },
  {
   "cell_type": "code",
   "execution_count": 13,
   "id": "33afef04",
   "metadata": {},
   "outputs": [],
   "source": [
    "import numpy as np\n",
    "import librosa, librosa.display\n",
    "import matplotlib.pyplot as plt\n",
    "import os\n",
    "import random\n",
    "import sklearn\n",
    "from keras.models import load_model\n",
    "from keras import Input\n",
    "from tensorflow.keras.models import Model\n",
    "from unicodedata import normalize\n",
    "from tensorflow.keras.utils import to_categorical\n",
    "from keras.layers import Dense, TimeDistributed, Dropout, Bidirectional, GRU, BatchNormalization, Activation, LeakyReLU, LSTM, Flatten, RepeatVector, Permute, Multiply, Conv2D, MaxPooling2D"
   ]
  },
  {
   "cell_type": "markdown",
   "id": "834be73c",
   "metadata": {},
   "source": [
    "# Ready for Data"
   ]
  },
  {
   "cell_type": "markdown",
   "id": "b17d8eb9",
   "metadata": {},
   "source": [
    "## Data Test"
   ]
  },
  {
   "cell_type": "code",
   "execution_count": 3,
   "id": "05e549ed",
   "metadata": {},
   "outputs": [],
   "source": [
    "# 오디오 데이터\n",
    "DATA_DIR_TRAIN = '/Users/ichanhui/Desktop/TranslationAudio/train/'\n",
    "DATA_DIR_TEST = '/Users/ichanhui/Desktop/TranslationAudio/test/'"
   ]
  },
  {
   "cell_type": "code",
   "execution_count": 4,
   "id": "b2d04ea8",
   "metadata": {},
   "outputs": [
    {
     "name": "stdout",
     "output_type": "stream",
     "text": [
      "sr :  16000\n",
      "wav shape :  (60696,)\n",
      "length :  3.7935 secs\n"
     ]
    }
   ],
   "source": [
    "# Example : scream 폴더의 음성 파일 접근\n",
    "wav, sr = librosa.load(DATA_DIR_TRAIN + 'scream/4.wav', sr=16000)\n",
    "print('sr : ', sr)\n",
    "print('wav shape : ', wav.shape)\n",
    "print('length : ', wav.shape[0]/float(sr), 'secs')"
   ]
  },
  {
   "cell_type": "code",
   "execution_count": 5,
   "id": "5d0d04d4",
   "metadata": {},
   "outputs": [
    {
     "name": "stdout",
     "output_type": "stream",
     "text": [
      "[<matplotlib.lines.Line2D object at 0x7fbb6b04ce20>]\n",
      "[<matplotlib.lines.Line2D object at 0x7fbb6b04ca90>]\n"
     ]
    },
    {
     "data": {
      "image/png": "[encoded data removed]",
      "text/plain": [
       "<Figure size 640x480 with 1 Axes>"
      ]
     },
     "metadata": {},
     "output_type": "display_data"
    }
   ],
   "source": [
    "# raw wave\n",
    "print(plt.plot(wav))\n",
    "print(plt.plot(wav[0:500]))"
   ]
  },
  {
   "cell_type": "markdown",
   "id": "cec4b2ab",
   "metadata": {},
   "source": [
    "## Train Data Set"
   ]
  },
  {
   "cell_type": "code",
   "execution_count": 6,
   "id": "c6cb4524",
   "metadata": {},
   "outputs": [],
   "source": [
    "# Data set List, include (raw data, mfcc data, y data)\n",
    "train_dataset = []\n",
    "test_dataset = []\n",
    "\n",
    "dataset0 = [] # 비명소리\n",
    "dataset1 = [] # 일반소리\n",
    "\n",
    "# split each set into raw data, mfcc data, and y data\n",
    "train_x = []\n",
    "train_mfccs = []\n",
    "train_y = []\n",
    "\n",
    "test_x = []\n",
    "test_mfccs = []\n",
    "test_y = []\n",
    "\n",
    "# 모든 음성파일의 길이가 같도록 후위에 padding 처리\n",
    "pad1d = lambda a, i: a[0: i] if a.shape[0] > i else np.hstack((a, np.zeros(i-a.shape[0])))\n",
    "pad2d = lambda a, i: a[:, 0:i] if a.shape[1] > i else np.hstack((a, np.zeros((a.shape[0], i-a.shape[1]))))\n",
    "\n",
    "frame_length = 0.025\n",
    "frame_stride = 0.001"
   ]
  },
  {
   "cell_type": "code",
   "execution_count": 7,
   "id": "fa1f1a74",
   "metadata": {},
   "outputs": [
    {
     "name": "stdout",
     "output_type": "stream",
     "text": [
      "400 16\n"
     ]
    }
   ],
   "source": [
    "input_nfft = int(round(sr*frame_length))\n",
    "input_stride = int(round(sr*frame_stride))\n",
    "print(input_nfft, input_stride)"
   ]
  },
  {
   "cell_type": "code",
   "execution_count": 8,
   "id": "1a81099b",
   "metadata": {},
   "outputs": [
    {
     "name": "stderr",
     "output_type": "stream",
     "text": [
      "/Users/ichanhui/opt/anaconda3/lib/python3.9/site-packages/librosa/core/spectrum.py:266: UserWarning: n_fft=2048 is too large for input signal of length=0\n",
      "  warnings.warn(\n"
     ]
    }
   ],
   "source": [
    "# train data scream 을 넣는다.\n",
    "for filename in os.listdir(DATA_DIR_TRAIN + \"scream/\"):\n",
    "    filename = normalize('NFC', filename) # 'ㅇㅡㅁ.wav' -> '음.wav'\n",
    "    try:\n",
    "        if '.wav' not in filename:\n",
    "            continue\n",
    "        \n",
    "        wav, sr = librosa.load(DATA_DIR_TRAIN + \"scream/\" + filename, sr=16000)\n",
    "        \n",
    "        mfcc = librosa.feature.mfcc(y=wav, sr=sr)\n",
    "        #mfcc = sklearn.preprocessing.scale(mfcc, axis=1)\n",
    "        padded_mfcc = pad2d(mfcc, 400)\n",
    "        \n",
    "        train_dataset.append((padded_mfcc, 0))\n",
    "    except Exception as e:\n",
    "        print(filename, e)\n",
    "        raise\n",
    "\n",
    "# train data non_scream 을 넣는다.\n",
    "for filename in os.listdir(DATA_DIR_TRAIN + \"non_scream/\"):\n",
    "    filename = normalize('NFC', filename)\n",
    "    try:\n",
    "        if '.wav' not in filename:\n",
    "            continue\n",
    "            \n",
    "        wav, sr = librosa.load(DATA_DIR_TRAIN + \"non_scream/\" + filename, sr=16000)\n",
    "        \n",
    "        mfcc = librosa.feature.mfcc(y=wav, sr=sr)\n",
    "        #mfcc = sklearn.preprocessing.scale(mfcc, axis=1)\n",
    "        padded_mfcc = pad2d(mfcc, 400)\n",
    "        \n",
    "        train_dataset.append((padded_mfcc, 1))\n",
    "    except Exception as e:\n",
    "        print(filename, e)\n",
    "        raise"
   ]
  },
  {
   "cell_type": "code",
   "execution_count": 9,
   "id": "6c984ce0",
   "metadata": {},
   "outputs": [],
   "source": [
    "# test data scream 을 넣는다.\n",
    "for filename in os.listdir(DATA_DIR_TEST + \"test_scream/\"):\n",
    "    filename = normalize('NFC', filename)\n",
    "    try:\n",
    "        if '.wav' not in filename:\n",
    "            continue\n",
    "        \n",
    "        wav, sr = librosa.load(DATA_DIR_TEST + \"test_scream/\" + filename, sr=16000)\n",
    "        \n",
    "        mfcc = librosa.feature.mfcc(y=wav, sr=sr)\n",
    "        #mfcc = sklearn.preprocessing.scale(mfcc, axis=1)\n",
    "        padded_mfcc = pad2d(mfcc, 400)\n",
    "        \n",
    "        test_dataset.append((padded_mfcc, 0))\n",
    "    except Exception as e:\n",
    "        print(filename, e)\n",
    "        raise\n",
    "\n",
    "# test data non_scream 을 넣는다.\n",
    "for filename in os.listdir(DATA_DIR_TEST + \"test_non_scream/\"):\n",
    "    filename = normalize('NFC', filename)\n",
    "    try:\n",
    "        if '.wav' not in filename:\n",
    "            continue\n",
    "        \n",
    "        wav, sr = librosa.load(DATA_DIR_TEST + \"test_non_scream/\" + filename, sr=16000)\n",
    "        \n",
    "        mfcc = librosa.feature.mfcc(y=wav, sr=sr)\n",
    "        #mfcc = sklearn.preprocessing.scale(mfcc, axis=1)\n",
    "        padded_mfcc = pad2d(mfcc, 400)\n",
    "        \n",
    "        test_dataset.append((padded_mfcc, 1))\n",
    "    except Exception as e:\n",
    "        print(filename, e)\n",
    "        raise\n"
   ]
  },
  {
   "cell_type": "code",
   "execution_count": 10,
   "id": "482f6516",
   "metadata": {},
   "outputs": [
    {
     "name": "stdout",
     "output_type": "stream",
     "text": [
      "train_mfccs :  (3069, 20, 400)\n",
      "train_y :  (3069, 2)\n",
      "test_mfccs :  (486, 20, 400)\n",
      "test_y :  (486, 2)\n"
     ]
    }
   ],
   "source": [
    "# 데이터 셋 셔플\n",
    "random.shuffle(test_dataset)\n",
    "random.shuffle(train_dataset)\n",
    "\n",
    "train_mfccs = [a for (a,b) in train_dataset]\n",
    "train_y = [b for (a,b) in train_dataset]\n",
    "\n",
    "test_mfccs = [a for (a,b) in test_dataset]\n",
    "test_y = [b for (a,b) in test_dataset]\n",
    "\n",
    "train_mfccs = np.array(train_mfccs)\n",
    "train_y = to_categorical(np.array(train_y))\n",
    "\n",
    "test_mfccs = np.array(test_mfccs)\n",
    "test_y = to_categorical(np.array(test_y))\n",
    "\n",
    "print('train_mfccs : ', train_mfccs.shape)\n",
    "print('train_y : ', train_y.shape)\n",
    "\n",
    "print('test_mfccs : ', test_mfccs.shape)\n",
    "print('test_y : ', test_y.shape)"
   ]
  },
  {
   "cell_type": "markdown",
   "id": "141a30c1",
   "metadata": {},
   "source": [
    "# MFCC feature 학습"
   ]
  },
  {
   "cell_type": "code",
   "execution_count": 11,
   "id": "62327bac",
   "metadata": {},
   "outputs": [
    {
     "name": "stdout",
     "output_type": "stream",
     "text": [
      "train X shape :  (3069, 20, 400, 1)\n",
      "test X shape :  (486, 20, 400, 1)\n"
     ]
    }
   ],
   "source": [
    "train_X_ex = np.expand_dims(train_mfccs, -1)\n",
    "test_X_ex = np.expand_dims(test_mfccs, -1)\n",
    "print('train X shape : ', train_X_ex.shape)\n",
    "print('test X shape : ', test_X_ex.shape)"
   ]
  },
  {
   "cell_type": "code",
   "execution_count": 110,
   "id": "e748d854",
   "metadata": {},
   "outputs": [
    {
     "name": "stdout",
     "output_type": "stream",
     "text": [
      "Model: \"model_5\"\n",
      "_________________________________________________________________\n",
      " Layer (type)                Output Shape              Param #   \n",
      "=================================================================\n",
      " input_29 (InputLayer)       [(None, 20, 400, 1)]      0         \n",
      "                                                                 \n",
      " conv2d_1994 (Conv2D)        (None, 17, 397, 96)       1632      \n",
      "                                                                 \n",
      " max_pooling2d_104 (MaxPooli  (None, 4, 99, 96)        0         \n",
      " ng2D)                                                           \n",
      "                                                                 \n",
      " dropout_20 (Dropout)        (None, 4, 99, 96)         0         \n",
      "                                                                 \n",
      " flatten_6 (Flatten)         (None, 38016)             0         \n",
      "                                                                 \n",
      " dense_10 (Dense)            (None, 32)                1216544   \n",
      "                                                                 \n",
      " activation_1979 (Activation  (None, 32)               0         \n",
      " )                                                               \n",
      "                                                                 \n",
      " dense_11 (Dense)            (None, 2)                 66        \n",
      "                                                                 \n",
      "=================================================================\n",
      "Total params: 1,218,242\n",
      "Trainable params: 1,218,242\n",
      "Non-trainable params: 0\n",
      "_________________________________________________________________\n"
     ]
    }
   ],
   "source": [
    "ip = Input(shape=train_X_ex[0].shape)\n",
    "\n",
    "m = Conv2D(32, kernel_size=(4,4), activation='relu')(ip)\n",
    "#m = BatchNormalization()(m)\n",
    "m = MaxPooling2D(pool_size=(4,4))(m)\n",
    "m = Dropout(0.25)(m)\n",
    "\n",
    "m = Conv2D(32*2, kernel_size=(4,4), activation='relu')(ip)\n",
    "#m = BatchNormalization()(m)\n",
    "m = MaxPooling2D(pool_size=(4,4))(m)\n",
    "m = Dropout(0.25)(m)\n",
    "\n",
    "m = Conv2D(32*3, kernel_size=(4,4), activation='relu')(ip)\n",
    "#m = BatchNormalization()(m)\n",
    "m = MaxPooling2D(pool_size=(4,4))(m)\n",
    "m = Dropout(0.25)(m)\n",
    "\n",
    "m = Flatten()(m)\n",
    "\n",
    "m = Dense(32)(m)\n",
    "#m = BatchNormalization()(m)\n",
    "m = Activation(\"relu\")(m)\n",
    "\n",
    "op = Dense(2, activation='softmax')(m)\n",
    "\n",
    "model = Model(ip, op)\n",
    "\n",
    "model.summary()"
   ]
  },
  {
   "cell_type": "code",
   "execution_count": 111,
   "id": "7db13a89",
   "metadata": {},
   "outputs": [
    {
     "name": "stdout",
     "output_type": "stream",
     "text": [
      "Epoch 1/100\n",
      "96/96 [==============================] - 6s 54ms/step - loss: 0.9559 - accuracy: 0.7481 - val_loss: 0.4292 - val_accuracy: 0.9527\n",
      "Epoch 2/100\n",
      "96/96 [==============================] - 5s 55ms/step - loss: 0.5062 - accuracy: 0.8407 - val_loss: 0.3788 - val_accuracy: 0.9588\n",
      "Epoch 3/100\n",
      "96/96 [==============================] - 5s 54ms/step - loss: 0.4741 - accuracy: 0.8537 - val_loss: 0.3355 - val_accuracy: 0.9630\n",
      "Epoch 4/100\n",
      "96/96 [==============================] - 5s 54ms/step - loss: 0.4546 - accuracy: 0.8553 - val_loss: 0.3161 - val_accuracy: 0.9568\n",
      "Epoch 5/100\n",
      "96/96 [==============================] - 5s 51ms/step - loss: 0.4275 - accuracy: 0.8661 - val_loss: 0.3020 - val_accuracy: 0.9527\n",
      "Epoch 6/100\n",
      "96/96 [==============================] - 6s 61ms/step - loss: 0.4084 - accuracy: 0.8719 - val_loss: 0.2844 - val_accuracy: 0.9671\n",
      "Epoch 7/100\n",
      "96/96 [==============================] - 6s 62ms/step - loss: 0.3998 - accuracy: 0.8684 - val_loss: 0.2859 - val_accuracy: 0.9547\n",
      "Epoch 8/100\n",
      "96/96 [==============================] - 5s 52ms/step - loss: 0.3815 - accuracy: 0.8746 - val_loss: 0.2523 - val_accuracy: 0.9630\n",
      "Epoch 9/100\n",
      "96/96 [==============================] - 5s 56ms/step - loss: 0.3768 - accuracy: 0.8713 - val_loss: 0.2470 - val_accuracy: 0.9630\n",
      "Epoch 10/100\n",
      "96/96 [==============================] - 6s 62ms/step - loss: 0.3693 - accuracy: 0.8739 - val_loss: 0.2446 - val_accuracy: 0.9630\n",
      "Epoch 11/100\n",
      "96/96 [==============================] - 5s 56ms/step - loss: 0.3603 - accuracy: 0.8742 - val_loss: 0.2695 - val_accuracy: 0.9609\n",
      "Epoch 12/100\n",
      "96/96 [==============================] - 5s 57ms/step - loss: 0.3558 - accuracy: 0.8746 - val_loss: 0.2643 - val_accuracy: 0.9609\n",
      "Epoch 13/100\n",
      "96/96 [==============================] - 6s 65ms/step - loss: 0.3515 - accuracy: 0.8752 - val_loss: 0.2451 - val_accuracy: 0.9630\n",
      "Epoch 14/100\n",
      "96/96 [==============================] - 6s 58ms/step - loss: 0.3562 - accuracy: 0.8710 - val_loss: 0.2561 - val_accuracy: 0.9609\n",
      "Epoch 15/100\n",
      "96/96 [==============================] - 5s 57ms/step - loss: 0.3428 - accuracy: 0.8736 - val_loss: 0.2398 - val_accuracy: 0.9568\n",
      "Epoch 16/100\n",
      "96/96 [==============================] - 5s 56ms/step - loss: 0.3432 - accuracy: 0.8755 - val_loss: 0.1980 - val_accuracy: 0.9630\n",
      "Epoch 17/100\n",
      "96/96 [==============================] - 5s 52ms/step - loss: 0.3411 - accuracy: 0.8765 - val_loss: 0.2463 - val_accuracy: 0.9568\n",
      "Epoch 18/100\n",
      "96/96 [==============================] - 6s 61ms/step - loss: 0.3312 - accuracy: 0.8798 - val_loss: 0.2267 - val_accuracy: 0.9568\n",
      "Epoch 19/100\n",
      "96/96 [==============================] - 6s 61ms/step - loss: 0.3283 - accuracy: 0.8785 - val_loss: 0.2085 - val_accuracy: 0.9609\n",
      "Epoch 20/100\n",
      "96/96 [==============================] - 5s 54ms/step - loss: 0.3352 - accuracy: 0.8752 - val_loss: 0.2016 - val_accuracy: 0.9588\n",
      "Epoch 21/100\n",
      "96/96 [==============================] - 5s 55ms/step - loss: 0.3377 - accuracy: 0.8726 - val_loss: 0.1990 - val_accuracy: 0.9650\n",
      "Epoch 22/100\n",
      "96/96 [==============================] - 5s 55ms/step - loss: 0.3253 - accuracy: 0.8788 - val_loss: 0.3744 - val_accuracy: 0.8354\n",
      "Epoch 23/100\n",
      "96/96 [==============================] - 5s 50ms/step - loss: 0.3312 - accuracy: 0.8752 - val_loss: 0.1907 - val_accuracy: 0.9609\n",
      "Epoch 24/100\n",
      "96/96 [==============================] - 5s 56ms/step - loss: 0.3196 - accuracy: 0.8801 - val_loss: 0.2002 - val_accuracy: 0.9609\n",
      "Epoch 25/100\n",
      "96/96 [==============================] - 6s 63ms/step - loss: 0.3167 - accuracy: 0.8827 - val_loss: 0.2033 - val_accuracy: 0.9547\n",
      "Epoch 26/100\n",
      "96/96 [==============================] - 5s 49ms/step - loss: 0.3199 - accuracy: 0.8798 - val_loss: 0.2510 - val_accuracy: 0.9547\n",
      "Epoch 27/100\n",
      "96/96 [==============================] - 5s 50ms/step - loss: 0.3241 - accuracy: 0.8768 - val_loss: 0.1995 - val_accuracy: 0.9568\n",
      "Epoch 28/100\n",
      "96/96 [==============================] - 5s 50ms/step - loss: 0.3145 - accuracy: 0.8817 - val_loss: 0.2188 - val_accuracy: 0.9609\n",
      "Epoch 29/100\n",
      "96/96 [==============================] - 5s 51ms/step - loss: 0.3088 - accuracy: 0.8944 - val_loss: 0.2368 - val_accuracy: 0.9321\n",
      "Epoch 30/100\n",
      "96/96 [==============================] - 5s 52ms/step - loss: 0.2562 - accuracy: 0.9238 - val_loss: 0.1839 - val_accuracy: 0.9609\n",
      "Epoch 31/100\n",
      "96/96 [==============================] - 5s 51ms/step - loss: 0.2317 - accuracy: 0.9319 - val_loss: 0.1913 - val_accuracy: 0.9588\n",
      "Epoch 32/100\n",
      "96/96 [==============================] - 5s 49ms/step - loss: 0.2238 - accuracy: 0.9339 - val_loss: 0.2099 - val_accuracy: 0.9424\n",
      "Epoch 33/100\n",
      "96/96 [==============================] - 5s 50ms/step - loss: 0.2200 - accuracy: 0.9332 - val_loss: 0.1598 - val_accuracy: 0.9588\n",
      "Epoch 34/100\n",
      "96/96 [==============================] - 5s 54ms/step - loss: 0.2234 - accuracy: 0.9322 - val_loss: 0.1833 - val_accuracy: 0.9527\n",
      "Epoch 35/100\n",
      "96/96 [==============================] - 5s 54ms/step - loss: 0.2093 - accuracy: 0.9387 - val_loss: 0.1774 - val_accuracy: 0.9630\n",
      "Epoch 36/100\n",
      "96/96 [==============================] - 5s 50ms/step - loss: 0.2175 - accuracy: 0.9371 - val_loss: 0.2061 - val_accuracy: 0.9506\n",
      "Epoch 37/100\n",
      "96/96 [==============================] - 5s 49ms/step - loss: 0.1988 - accuracy: 0.9433 - val_loss: 0.1775 - val_accuracy: 0.9671\n",
      "Epoch 38/100\n",
      "96/96 [==============================] - 5s 53ms/step - loss: 0.2035 - accuracy: 0.9436 - val_loss: 0.2615 - val_accuracy: 0.9403\n",
      "Epoch 39/100\n",
      "96/96 [==============================] - 5s 48ms/step - loss: 0.1884 - accuracy: 0.9472 - val_loss: 0.1527 - val_accuracy: 0.9691\n",
      "Epoch 40/100\n",
      "96/96 [==============================] - 5s 48ms/step - loss: 0.1803 - accuracy: 0.9505 - val_loss: 0.1556 - val_accuracy: 0.9691\n",
      "Epoch 41/100\n",
      "96/96 [==============================] - 5s 56ms/step - loss: 0.1841 - accuracy: 0.9492 - val_loss: 0.1583 - val_accuracy: 0.9712\n",
      "Epoch 42/100\n",
      "96/96 [==============================] - 5s 51ms/step - loss: 0.1909 - accuracy: 0.9436 - val_loss: 0.1633 - val_accuracy: 0.9650\n",
      "Epoch 43/100\n",
      "96/96 [==============================] - 5s 52ms/step - loss: 0.1816 - accuracy: 0.9459 - val_loss: 0.1485 - val_accuracy: 0.9691\n",
      "Epoch 44/100\n",
      "96/96 [==============================] - 5s 54ms/step - loss: 0.1702 - accuracy: 0.9518 - val_loss: 0.1637 - val_accuracy: 0.9671\n",
      "Epoch 45/100\n",
      "96/96 [==============================] - 5s 53ms/step - loss: 0.1775 - accuracy: 0.9514 - val_loss: 0.1507 - val_accuracy: 0.9650\n",
      "Epoch 46/100\n",
      "96/96 [==============================] - 5s 50ms/step - loss: 0.1675 - accuracy: 0.9518 - val_loss: 0.1530 - val_accuracy: 0.9691\n",
      "Epoch 47/100\n",
      "96/96 [==============================] - 5s 53ms/step - loss: 0.1764 - accuracy: 0.9475 - val_loss: 0.1544 - val_accuracy: 0.9733\n",
      "Epoch 48/100\n",
      "96/96 [==============================] - 5s 53ms/step - loss: 0.1807 - accuracy: 0.9462 - val_loss: 0.1645 - val_accuracy: 0.9671\n",
      "Epoch 49/100\n",
      "96/96 [==============================] - 5s 51ms/step - loss: 0.1648 - accuracy: 0.9541 - val_loss: 0.1811 - val_accuracy: 0.9630\n",
      "Epoch 50/100\n",
      "96/96 [==============================] - 5s 49ms/step - loss: 0.1582 - accuracy: 0.9547 - val_loss: 0.1701 - val_accuracy: 0.9671\n",
      "Epoch 51/100\n",
      "96/96 [==============================] - 5s 52ms/step - loss: 0.1572 - accuracy: 0.9557 - val_loss: 0.1745 - val_accuracy: 0.9630\n",
      "Epoch 52/100\n",
      "96/96 [==============================] - 5s 48ms/step - loss: 0.1543 - accuracy: 0.9557 - val_loss: 0.1604 - val_accuracy: 0.9712\n",
      "Epoch 53/100\n",
      "96/96 [==============================] - 5s 48ms/step - loss: 0.1713 - accuracy: 0.9521 - val_loss: 0.2041 - val_accuracy: 0.9383\n",
      "Epoch 54/100\n",
      "96/96 [==============================] - 5s 51ms/step - loss: 0.1535 - accuracy: 0.9580 - val_loss: 0.1741 - val_accuracy: 0.9630\n",
      "Epoch 55/100\n",
      "96/96 [==============================] - 5s 50ms/step - loss: 0.1548 - accuracy: 0.9563 - val_loss: 0.1763 - val_accuracy: 0.9691\n",
      "Epoch 56/100\n",
      "96/96 [==============================] - 5s 48ms/step - loss: 0.1518 - accuracy: 0.9583 - val_loss: 0.1928 - val_accuracy: 0.9630\n",
      "Epoch 57/100\n",
      "96/96 [==============================] - 5s 49ms/step - loss: 0.1603 - accuracy: 0.9563 - val_loss: 0.1615 - val_accuracy: 0.9712\n",
      "Epoch 58/100\n",
      "96/96 [==============================] - 5s 48ms/step - loss: 0.1476 - accuracy: 0.9606 - val_loss: 0.1929 - val_accuracy: 0.9630\n",
      "Epoch 59/100\n",
      "96/96 [==============================] - 5s 51ms/step - loss: 0.1498 - accuracy: 0.9593 - val_loss: 0.2071 - val_accuracy: 0.9650\n",
      "Epoch 60/100\n",
      "96/96 [==============================] - 5s 48ms/step - loss: 0.1797 - accuracy: 0.9453 - val_loss: 0.1759 - val_accuracy: 0.9671\n",
      "Epoch 61/100\n",
      "96/96 [==============================] - 5s 50ms/step - loss: 0.1538 - accuracy: 0.9576 - val_loss: 0.1794 - val_accuracy: 0.9733\n",
      "Epoch 62/100\n",
      "96/96 [==============================] - 5s 48ms/step - loss: 0.1456 - accuracy: 0.9599 - val_loss: 0.1989 - val_accuracy: 0.9650\n",
      "Epoch 63/100\n",
      "96/96 [==============================] - 5s 49ms/step - loss: 0.1559 - accuracy: 0.9537 - val_loss: 0.1643 - val_accuracy: 0.9671\n",
      "Epoch 64/100\n",
      "96/96 [==============================] - 5s 51ms/step - loss: 0.1504 - accuracy: 0.9580 - val_loss: 0.1731 - val_accuracy: 0.9712\n",
      "Epoch 65/100\n",
      "96/96 [==============================] - 5s 49ms/step - loss: 0.1573 - accuracy: 0.9557 - val_loss: 0.1773 - val_accuracy: 0.9630\n",
      "Epoch 66/100\n",
      "96/96 [==============================] - 5s 49ms/step - loss: 0.1443 - accuracy: 0.9606 - val_loss: 0.1778 - val_accuracy: 0.9712\n",
      "Epoch 67/100\n",
      "96/96 [==============================] - 5s 48ms/step - loss: 0.1586 - accuracy: 0.9554 - val_loss: 0.1559 - val_accuracy: 0.9774\n",
      "Epoch 68/100\n",
      "96/96 [==============================] - 5s 51ms/step - loss: 0.1515 - accuracy: 0.9563 - val_loss: 0.1855 - val_accuracy: 0.9630\n",
      "Epoch 69/100\n",
      "96/96 [==============================] - 5s 48ms/step - loss: 0.1441 - accuracy: 0.9599 - val_loss: 0.1708 - val_accuracy: 0.9733\n",
      "Epoch 70/100\n",
      "96/96 [==============================] - 5s 48ms/step - loss: 0.1443 - accuracy: 0.9619 - val_loss: 0.2197 - val_accuracy: 0.9712\n",
      "Epoch 71/100\n",
      "96/96 [==============================] - 5s 50ms/step - loss: 0.1492 - accuracy: 0.9560 - val_loss: 0.1620 - val_accuracy: 0.9691\n",
      "Epoch 72/100\n",
      "96/96 [==============================] - 5s 48ms/step - loss: 0.1426 - accuracy: 0.9609 - val_loss: 0.1570 - val_accuracy: 0.9691\n",
      "Epoch 73/100\n",
      "96/96 [==============================] - 5s 48ms/step - loss: 0.1476 - accuracy: 0.9596 - val_loss: 0.2015 - val_accuracy: 0.9568\n",
      "Epoch 74/100\n",
      "96/96 [==============================] - 5s 50ms/step - loss: 0.1455 - accuracy: 0.9589 - val_loss: 0.1878 - val_accuracy: 0.9568\n",
      "Epoch 75/100\n",
      "96/96 [==============================] - 5s 49ms/step - loss: 0.1545 - accuracy: 0.9570 - val_loss: 0.1527 - val_accuracy: 0.9733\n",
      "Epoch 76/100\n",
      "96/96 [==============================] - 5s 54ms/step - loss: 0.1496 - accuracy: 0.9583 - val_loss: 0.2048 - val_accuracy: 0.9630\n",
      "Epoch 77/100\n",
      "96/96 [==============================] - 5s 53ms/step - loss: 0.1410 - accuracy: 0.9606 - val_loss: 0.1446 - val_accuracy: 0.9753\n",
      "Epoch 78/100\n",
      "96/96 [==============================] - 6s 59ms/step - loss: 0.1420 - accuracy: 0.9606 - val_loss: 0.1342 - val_accuracy: 0.9691\n",
      "Epoch 79/100\n",
      "96/96 [==============================] - 5s 54ms/step - loss: 0.1492 - accuracy: 0.9677 - val_loss: 0.1363 - val_accuracy: 0.9753\n",
      "Epoch 80/100\n",
      "96/96 [==============================] - 6s 62ms/step - loss: 0.0884 - accuracy: 0.9814 - val_loss: 0.1557 - val_accuracy: 0.9691\n",
      "Epoch 81/100\n",
      "96/96 [==============================] - 6s 58ms/step - loss: 0.0904 - accuracy: 0.9818 - val_loss: 0.1452 - val_accuracy: 0.9712\n",
      "Epoch 82/100\n",
      "96/96 [==============================] - 5s 51ms/step - loss: 0.0934 - accuracy: 0.9775 - val_loss: 0.1918 - val_accuracy: 0.9650\n",
      "Epoch 83/100\n",
      "96/96 [==============================] - 5s 55ms/step - loss: 0.0831 - accuracy: 0.9814 - val_loss: 0.1724 - val_accuracy: 0.9588\n",
      "Epoch 84/100\n",
      "96/96 [==============================] - 5s 54ms/step - loss: 0.0839 - accuracy: 0.9814 - val_loss: 0.1778 - val_accuracy: 0.9568\n",
      "Epoch 85/100\n",
      "96/96 [==============================] - 5s 51ms/step - loss: 0.0870 - accuracy: 0.9795 - val_loss: 0.1626 - val_accuracy: 0.9733\n",
      "Epoch 86/100\n",
      "96/96 [==============================] - 5s 52ms/step - loss: 0.0769 - accuracy: 0.9821 - val_loss: 0.2344 - val_accuracy: 0.9568\n",
      "Epoch 87/100\n",
      "96/96 [==============================] - 5s 54ms/step - loss: 0.0710 - accuracy: 0.9840 - val_loss: 0.1513 - val_accuracy: 0.9671\n",
      "Epoch 88/100\n",
      "96/96 [==============================] - 5s 48ms/step - loss: 0.0724 - accuracy: 0.9844 - val_loss: 0.1522 - val_accuracy: 0.9733\n",
      "Epoch 89/100\n",
      "96/96 [==============================] - 5s 52ms/step - loss: 0.0740 - accuracy: 0.9821 - val_loss: 0.1546 - val_accuracy: 0.9650\n",
      "Epoch 90/100\n",
      "96/96 [==============================] - 5s 54ms/step - loss: 0.0756 - accuracy: 0.9824 - val_loss: 0.1671 - val_accuracy: 0.9547\n",
      "Epoch 91/100\n",
      "96/96 [==============================] - 5s 52ms/step - loss: 0.0787 - accuracy: 0.9821 - val_loss: 0.2118 - val_accuracy: 0.9609\n",
      "Epoch 92/100\n",
      "96/96 [==============================] - 5s 52ms/step - loss: 0.0823 - accuracy: 0.9804 - val_loss: 0.1987 - val_accuracy: 0.9444\n",
      "Epoch 93/100\n",
      "96/96 [==============================] - 5s 54ms/step - loss: 0.0871 - accuracy: 0.9795 - val_loss: 0.1555 - val_accuracy: 0.9712\n",
      "Epoch 94/100\n",
      "96/96 [==============================] - 5s 53ms/step - loss: 0.0739 - accuracy: 0.9837 - val_loss: 0.1654 - val_accuracy: 0.9609\n",
      "Epoch 95/100\n",
      "96/96 [==============================] - 5s 51ms/step - loss: 0.0724 - accuracy: 0.9827 - val_loss: 0.2032 - val_accuracy: 0.9568\n",
      "Epoch 96/100\n",
      "96/96 [==============================] - 5s 53ms/step - loss: 0.0829 - accuracy: 0.9791 - val_loss: 0.1299 - val_accuracy: 0.9671\n",
      "Epoch 97/100\n",
      "96/96 [==============================] - 5s 50ms/step - loss: 0.0807 - accuracy: 0.9782 - val_loss: 0.1284 - val_accuracy: 0.9733\n",
      "Epoch 98/100\n",
      "96/96 [==============================] - 5s 51ms/step - loss: 0.0639 - accuracy: 0.9857 - val_loss: 0.2509 - val_accuracy: 0.9527\n",
      "Epoch 99/100\n",
      "96/96 [==============================] - 5s 50ms/step - loss: 0.0741 - accuracy: 0.9837 - val_loss: 0.1230 - val_accuracy: 0.9733\n",
      "Epoch 100/100\n",
      "96/96 [==============================] - 5s 50ms/step - loss: 0.0713 - accuracy: 0.9834 - val_loss: 0.1502 - val_accuracy: 0.9650\n"
     ]
    }
   ],
   "source": [
    "# 만약 3개 이상의 클래스 분류를 해야한다면 categorical_crossentropy 를 사용\n",
    "model.compile(loss='binary_crossentropy',\n",
    "              optimizer='adam',\n",
    "              metrics=['accuracy'])\n",
    "\n",
    "history = model.fit(train_X_ex,\n",
    "                    train_y,\n",
    "                    epochs=100,\n",
    "                    batch_size=32,\n",
    "                    verbose=1,\n",
    "                    validation_data=(test_X_ex, test_y))"
   ]
  },
  {
   "cell_type": "code",
   "execution_count": 151,
   "id": "c6fce9f1",
   "metadata": {},
   "outputs": [
    {
     "data": {
      "text/plain": [
       "<matplotlib.legend.Legend at 0x7fc27d26fcd0>"
      ]
     },
     "execution_count": 151,
     "metadata": {},
     "output_type": "execute_result"
    },
    {
     "data": {
      "image/png": "[encoded data removed]",
      "text/plain": [
       "<Figure size 432x288 with 1 Axes>"
      ]
     },
     "metadata": {
      "needs_background": "light"
     },
     "output_type": "display_data"
    }
   ],
   "source": [
    "plt.plot(history.history['accuracy'], label='Train Accuracy')\n",
    "plt.plot(history.history['val_accuracy'], label='Validation Accuracy')\n",
    "plt.xlabel('Epochs')\n",
    "plt.ylabel('Accuracy')\n",
    "plt.legend()"
   ]
  },
  {
   "cell_type": "markdown",
   "id": "a049d800",
   "metadata": {},
   "source": [
    "# Model Test"
   ]
  },
  {
   "cell_type": "code",
   "execution_count": 215,
   "id": "67b3ed26",
   "metadata": {},
   "outputs": [
    {
     "name": "stdout",
     "output_type": "stream",
     "text": [
      "[[-5.82254272e+02 -5.78745728e+02 -5.75318359e+02 ... -4.88283508e+02\n",
      "  -4.88048950e+02 -4.87779602e+02]\n",
      " [ 4.35826035e+01  4.74268723e+01  5.11487732e+01 ...  1.17514175e+02\n",
      "   1.18353622e+02  1.19093964e+02]\n",
      " [ 2.82188835e+01  2.96627121e+01  3.08863640e+01 ...  3.49628220e+01\n",
      "   3.53854218e+01  3.53391037e+01]\n",
      " ...\n",
      " [-4.95632219e+00 -4.62753677e+00 -3.49591160e+00 ... -2.14017689e-01\n",
      "   7.73540676e-01  1.65676212e+00]\n",
      " [-6.56871939e+00 -6.87580156e+00 -6.91259432e+00 ...  8.80374670e-01\n",
      "  -6.28531218e-01 -1.67299724e+00]\n",
      " [-6.72741270e+00 -7.10665035e+00 -7.76227617e+00 ...  2.52398920e+00\n",
      "   9.93834972e-01  1.02857888e-01]]\n"
     ]
    }
   ],
   "source": [
    "wav, sr = librosa.load(DATA_DIR_TEST + \"/test_scream/5_.wav\", sr=16000)\n",
    "input_nfft = int(round(sr*frame_length))\n",
    "input_stride = int(round(sr*frame_stride))\n",
    "mfcc = librosa.feature.mfcc(y=wav, sr=sr, n_mfcc=20, n_mels=100, n_fft=input_nfft, hop_length=input_stride)\n",
    "#mfcc = sklearn.preprocessing.scale(mfcc, axis=1)\n",
    "padded_mfcc = pad2d(mfcc, 400)\n",
    "print(padded_mfcc)"
   ]
  },
  {
   "cell_type": "code",
   "execution_count": 213,
   "id": "06d4d087",
   "metadata": {},
   "outputs": [],
   "source": [
    "padded_mfcc = np.expand_dims(padded_mfcc, 0)\n",
    "padded_mfcc = np.expand_dims(padded_mfcc, -1)"
   ]
  },
  {
   "cell_type": "code",
   "execution_count": 214,
   "id": "0c8aa48e",
   "metadata": {},
   "outputs": [
    {
     "name": "stdout",
     "output_type": "stream",
     "text": [
      "1/1 [==============================] - 0s 187ms/step\n"
     ]
    },
    {
     "data": {
      "text/plain": [
       "array([[0.9989116 , 0.00108841]], dtype=float32)"
      ]
     },
     "execution_count": 214,
     "metadata": {},
     "output_type": "execute_result"
    }
   ],
   "source": [
    "model.predict(padded_mfcc)"
   ]
  },
  {
   "cell_type": "markdown",
   "id": "e21c5132",
   "metadata": {},
   "source": [
    "# Model Save"
   ]
  },
  {
   "cell_type": "code",
   "execution_count": 211,
   "id": "022978d4",
   "metadata": {},
   "outputs": [],
   "source": [
    "model.save(\"my_model.h5\")"
   ]
  },
  {
   "cell_type": "code",
   "execution_count": 23,
   "id": "5610bd5d",
   "metadata": {},
   "outputs": [
    {
     "name": "stdout",
     "output_type": "stream",
     "text": [
      "sr: 16000\n",
      "wav shape: (59976,)\n",
      "length: 3.7485 secs\n"
     ]
    }
   ],
   "source": [
    "# 샘플 오디오 데이터\n",
    "wav, sr = librosa.load(DATA_DIR_TEST + 'test_non_scream/1579.wav', sr=None)\n",
    "print('sr:', sr)\n",
    "print('wav shape:', wav.shape)\n",
    "print('length:', wav.shape[0]/float(sr), 'secs')"
   ]
  },
  {
   "cell_type": "code",
   "execution_count": 24,
   "id": "07a5364d",
   "metadata": {},
   "outputs": [
    {
     "name": "stdout",
     "output_type": "stream",
     "text": [
      "[<matplotlib.lines.Line2D object at 0x7fbb8d3c6280>]\n",
      "[<matplotlib.lines.Line2D object at 0x7fbb6b31d400>]\n"
     ]
    },
    {
     "data": {
      "image/png": "[encoded data removed]",
      "text/plain": [
       "<Figure size 640x480 with 1 Axes>"
      ]
     },
     "metadata": {},
     "output_type": "display_data"
    }
   ],
   "source": [
    "# raw wave\n",
    "print(plt.plot(wav))\n",
    "print(plt.plot(wav[0:500]))"
   ]
  },
  {
   "cell_type": "code",
   "execution_count": 30,
   "id": "c9bd5931",
   "metadata": {},
   "outputs": [],
   "source": [
    "mfcc = librosa.feature.mfcc(y=wav, sr=sr, n_mfcc=20)\n",
    "padded_mfcc = pad2d(mfcc, 400)\n",
    "padded_mfcc = np.expand_dims(padded_mfcc, 0)"
   ]
  },
  {
   "cell_type": "code",
   "execution_count": 31,
   "id": "9522b927",
   "metadata": {},
   "outputs": [
    {
     "name": "stdout",
     "output_type": "stream",
     "text": [
      "1/1 [==============================] - 0s 80ms/step\n"
     ]
    },
    {
     "data": {
      "text/plain": [
       "array([[0.12845252, 0.8715475 ]], dtype=float32)"
      ]
     },
     "execution_count": 31,
     "metadata": {},
     "output_type": "execute_result"
    }
   ],
   "source": [
    "model = load_model(\"my_model.h5\")\n",
    "model.predict(padded_mfcc)"
   ]
  },
  {
   "cell_type": "code",
   "execution_count": null,
   "id": "ee18acdf",
   "metadata": {},
   "outputs": [],
   "source": []
  }
 ],
 "metadata": {
  "kernelspec": {
   "display_name": "Python 3 (ipykernel)",
   "language": "python",
   "name": "python3"
  },
  "language_info": {
   "codemirror_mode": {
    "name": "ipython",
    "version": 3
   },
   "file_extension": ".py",
   "mimetype": "text/x-python",
   "name": "python",
   "nbconvert_exporter": "python",
   "pygments_lexer": "ipython3",
   "version": "3.9.18"
  }
 },
 "nbformat": 4,
 "nbformat_minor": 5
}
