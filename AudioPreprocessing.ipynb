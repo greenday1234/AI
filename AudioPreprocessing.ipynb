{
 "cells": [
  {
   "cell_type": "markdown",
   "id": "09123ff9",
   "metadata": {},
   "source": [
    "# library importing"
   ]
  },
  {
   "cell_type": "code",
   "execution_count": 20,
   "id": "33afef04",
   "metadata": {},
   "outputs": [],
   "source": [
    "import numpy as np\n",
    "import librosa, librosa.display\n",
    "import matplotlib.pyplot as plt\n",
    "import os\n",
    "import sklearn\n",
    "import warnings\n",
    "import random\n",
    "from keras import Input\n",
    "from tensorflow.keras.models import Model\n",
    "from unicodedata import normalize\n",
    "from tensorflow.keras.utils import to_categorical\n",
    "from keras.layers import Dense, TimeDistributed, Dropout, Bidirectional, GRU, BatchNormalization, Activation, LeakyReLU, LSTM, Flatten, RepeatVector, Permute, Multiply, Conv2D, MaxPooling2D\n",
    "warnings.filterwarnings('ignore', module='sklearn')"
   ]
  },
  {
   "cell_type": "markdown",
   "id": "834be73c",
   "metadata": {},
   "source": [
    "# Ready for Data"
   ]
  },
  {
   "cell_type": "markdown",
   "id": "b17d8eb9",
   "metadata": {},
   "source": [
    "## Data Test"
   ]
  },
  {
   "cell_type": "code",
   "execution_count": 2,
   "id": "05e549ed",
   "metadata": {},
   "outputs": [],
   "source": [
    "# 오디오 데이터\n",
    "DATA_DIR_TRAIN = '/Users/ichanhui/Desktop/TranslationAudio/train/'\n",
    "DATA_DIR_TEST = '/Users/ichanhui/Desktop/TranslationAudio/test/'"
   ]
  },
  {
   "cell_type": "code",
   "execution_count": 3,
   "id": "b2d04ea8",
   "metadata": {},
   "outputs": [
    {
     "name": "stdout",
     "output_type": "stream",
     "text": [
      "sr :  16000\n",
      "wav shape :  (60696,)\n",
      "length :  3.7935 secs\n"
     ]
    }
   ],
   "source": [
    "# Example : scream 폴더의 음성 파일 접근\n",
    "wav, sr = librosa.load(DATA_DIR_TRAIN + 'scream/4.wav', sr=16000)\n",
    "print('sr : ', sr)\n",
    "print('wav shape : ', wav.shape)\n",
    "print('length : ', wav.shape[0]/float(sr), 'secs')"
   ]
  },
  {
   "cell_type": "code",
   "execution_count": 4,
   "id": "5d0d04d4",
   "metadata": {},
   "outputs": [
    {
     "name": "stdout",
     "output_type": "stream",
     "text": [
      "[<matplotlib.lines.Line2D object at 0x7fa2fe1bbcd0>]\n",
      "[<matplotlib.lines.Line2D object at 0x7fa2fe1bb970>]\n"
     ]
    },
    {
     "data": {
      "image/png": "[encoded data removed]",
      "text/plain": [
       "<Figure size 432x288 with 1 Axes>"
      ]
     },
     "metadata": {
      "needs_background": "light"
     },
     "output_type": "display_data"
    }
   ],
   "source": [
    "# raw wave\n",
    "print(plt.plot(wav))\n",
    "print(plt.plot(wav[0:500]))"
   ]
  },
  {
   "cell_type": "markdown",
   "id": "cec4b2ab",
   "metadata": {},
   "source": [
    "## Train Data Set"
   ]
  },
  {
   "cell_type": "code",
   "execution_count": 5,
   "id": "c6cb4524",
   "metadata": {},
   "outputs": [],
   "source": [
    "# Data set List, include (raw data, mfcc data, y data)\n",
    "train_dataset = []\n",
    "test_dataset = []\n",
    "\n",
    "dataset0 = [] # 비명소리\n",
    "dataset1 = [] # 일반소리\n",
    "\n",
    "# split each set into raw data, mfcc data, and y data\n",
    "train_x = []\n",
    "train_mfccs = []\n",
    "train_y = []\n",
    "\n",
    "test_x = []\n",
    "test_mfccs = []\n",
    "test_y = []\n",
    "\n",
    "# 모든 음성파일의 길이가 같도록 후위에 padding 처리\n",
    "pad1d = lambda a, i: a[0: i] if a.shape[0] > i else np.hstack((a, np.zeros(i-a.shape[0])))\n",
    "pad2d = lambda a, i: a[:, 0:i] if a.shape[1] > i else np.hstack((a, np.zeros((a.shape[0], i-a.shape[1]))))\n",
    "\n",
    "frame_length = 0.025\n",
    "frame_stride = 0.001"
   ]
  },
  {
   "cell_type": "code",
   "execution_count": 6,
   "id": "fa1f1a74",
   "metadata": {},
   "outputs": [
    {
     "name": "stdout",
     "output_type": "stream",
     "text": [
      "400 16\n"
     ]
    }
   ],
   "source": [
    "input_nfft = int(round(sr*frame_length))\n",
    "input_stride = int(round(sr*frame_stride))\n",
    "print(input_nfft, input_stride)"
   ]
  },
  {
   "cell_type": "code",
   "execution_count": 7,
   "id": "1a81099b",
   "metadata": {},
   "outputs": [
    {
     "name": "stderr",
     "output_type": "stream",
     "text": [
      "/Users/ichanhui/opt/anaconda3/lib/python3.9/site-packages/librosa/core/spectrum.py:266: UserWarning: n_fft=2048 is too large for input signal of length=0\n",
      "  warnings.warn(\n"
     ]
    }
   ],
   "source": [
    "# train data scream 을 넣는다.\n",
    "for filename in os.listdir(DATA_DIR_TRAIN + \"scream/\"):\n",
    "    filename = normalize('NFC', filename) # 'ㅇㅡㅁ.wav' -> '음.wav'\n",
    "    try:\n",
    "        if '.wav' not in filename:\n",
    "            continue\n",
    "        \n",
    "        wav, sr = librosa.load(DATA_DIR_TRAIN + \"scream/\" + filename, sr=16000)\n",
    "        \n",
    "        mfcc = librosa.feature.mfcc(y=wav, sr=sr)\n",
    "        #mfcc = sklearn.processing.scale(mfcc, axis=1)\n",
    "        padded_mfcc = pad2d(mfcc, 400)\n",
    "        \n",
    "        # Scream Dataset 에 추가\n",
    "        train_dataset.append((padded_mfcc, 0))\n",
    "    except Exception as e:\n",
    "        print(filename, e)\n",
    "        raise\n",
    "\n",
    "# train data non_scream 을 넣는다.\n",
    "for filename in os.listdir(DATA_DIR_TRAIN + \"non_scream/\"):\n",
    "    filename = normalize('NFC', filename)\n",
    "    try:\n",
    "        if '.wav' not in filename:\n",
    "            continue\n",
    "        \n",
    "        wav, sr = librosa.load(DATA_DIR_TRAIN + \"non_scream/\" + filename, sr=16000)\n",
    "        \n",
    "        mfcc = librosa.feature.mfcc(y=wav, sr=sr)\n",
    "        #mfcc = sklearn.processing.scale(mfcc, axis=1)\n",
    "        padded_mfcc = pad2d(mfcc, 400)\n",
    "        \n",
    "        # non_scream Dataset 에 추가\n",
    "        train_dataset.append((padded_mfcc, 1))\n",
    "    except Exception as e:\n",
    "        print(filename, e)\n",
    "        raise"
   ]
  },
  {
   "cell_type": "code",
   "execution_count": 8,
   "id": "6c984ce0",
   "metadata": {},
   "outputs": [],
   "source": [
    "# test data scream 을 넣는다.\n",
    "for filename in os.listdir(DATA_DIR_TEST + \"test_scream/\"):\n",
    "    filename = normalize('NFC', filename)\n",
    "    try:\n",
    "        if '.wav' not in filename:\n",
    "            continue\n",
    "        \n",
    "        wav, sr = librosa.load(DATA_DIR_TEST + \"test_scream/\" + filename, sr=16000)\n",
    "        \n",
    "        input_nfft = int(round(sr*frame_length))\n",
    "        input_stride = int(round(sr*frame_stride))\n",
    "        \n",
    "        mfcc = librosa.feature.mfcc(y=wav, sr=sr)\n",
    "        #mfcc = sklearn.preprocessing.scale(mfcc, axis=1)\n",
    "        padded_mfcc = pad2d(mfcc, 400)\n",
    "        \n",
    "        \n",
    "        # test scream dataset 에 추가\n",
    "        test_dataset.append((padded_mfcc, 0))\n",
    "    except Exception as e:\n",
    "        print(filename, e)\n",
    "        raise\n",
    "\n",
    "# test data non_scream 을 넣는다.\n",
    "for filename in os.listdir(DATA_DIR_TEST + \"test_non_scream/\"):\n",
    "    filename = normalize('NFC', filename)\n",
    "    try:\n",
    "        if '.wav' not in filename:\n",
    "            continue\n",
    "        \n",
    "        wav, sr = librosa.load(DATA_DIR_TEST + \"test_non_scream/\" + filename, sr=16000)\n",
    "        \n",
    "        input_nfft = int(round(sr*frame_length))\n",
    "        input_stride = int(round(sr*frame_stride))\n",
    "        \n",
    "        mfcc = librosa.feature.mfcc(y=wav, sr=sr)\n",
    "        #mfcc = sklearn.preprocessing.scale(mfcc, axis=1)\n",
    "        padded_mfcc = pad2d(mfcc, 400)\n",
    "        \n",
    "        # test non_scream dataset 에 추가\n",
    "        test_dataset.append((padded_mfcc, 1))\n",
    "    except Exception as e:\n",
    "        print(filename, e)\n",
    "        raise\n"
   ]
  },
  {
   "cell_type": "code",
   "execution_count": 9,
   "id": "482f6516",
   "metadata": {},
   "outputs": [
    {
     "name": "stdout",
     "output_type": "stream",
     "text": [
      "train_mfccs :  (3069, 20, 400)\n",
      "train_y :  (3069, 2)\n",
      "test_mfccs :  (486, 20, 400)\n",
      "test_y :  (486, 2)\n"
     ]
    }
   ],
   "source": [
    "# 데이터 셋 셔플\n",
    "random.shuffle(test_dataset)\n",
    "random.shuffle(train_dataset)\n",
    "\n",
    "train_mfccs = [a for (a,b) in train_dataset]\n",
    "train_y = [b for (a,b) in train_dataset]\n",
    "\n",
    "test_mfccs = [a for (a,b) in test_dataset]\n",
    "test_y = [b for (a,b) in test_dataset]\n",
    "\n",
    "train_mfccs = np.array(train_mfccs)\n",
    "train_y = to_categorical(np.array(train_y))\n",
    "\n",
    "test_mfccs = np.array(test_mfccs)\n",
    "test_y = to_categorical(np.array(test_y))\n",
    "\n",
    "print('train_mfccs : ', train_mfccs.shape)\n",
    "print('train_y : ', train_y.shape)\n",
    "\n",
    "print('test_mfccs : ', test_mfccs.shape)\n",
    "print('test_y : ', test_y.shape)"
   ]
  },
  {
   "cell_type": "markdown",
   "id": "2c735992",
   "metadata": {},
   "source": [
    "# MFCC feature 학습"
   ]
  },
  {
   "cell_type": "code",
   "execution_count": 10,
   "id": "48b8e269",
   "metadata": {},
   "outputs": [
    {
     "name": "stdout",
     "output_type": "stream",
     "text": [
      "train X shape :  (3069, 20, 400, 1)\n",
      "test X shape :  (486, 20, 400, 1)\n"
     ]
    }
   ],
   "source": [
    "train_X_ex = np.expand_dims(train_mfccs, -1)\n",
    "test_X_ex = np.expand_dims(test_mfccs, -1)\n",
    "print('train X shape : ', train_X_ex.shape)\n",
    "print('test X shape : ', test_X_ex.shape)"
   ]
  },
  {
   "cell_type": "code",
   "execution_count": 21,
   "id": "6837ac06",
   "metadata": {},
   "outputs": [
    {
     "name": "stdout",
     "output_type": "stream",
     "text": [
      "Model: \"model\"\n",
      "_________________________________________________________________\n",
      " Layer (type)                Output Shape              Param #   \n",
      "=================================================================\n",
      " input_4 (InputLayer)        [(None, 20, 400, 1)]      0         \n",
      "                                                                 \n",
      " conv2d_5 (Conv2D)           (None, 17, 397, 96)       1632      \n",
      "                                                                 \n",
      " max_pooling2d_5 (MaxPooling  (None, 4, 99, 96)        0         \n",
      " 2D)                                                             \n",
      "                                                                 \n",
      " flatten_1 (Flatten)         (None, 38016)             0         \n",
      "                                                                 \n",
      " dense_2 (Dense)             (None, 32)                1216544   \n",
      "                                                                 \n",
      " activation_1 (Activation)   (None, 32)                0         \n",
      "                                                                 \n",
      " dense_3 (Dense)             (None, 2)                 66        \n",
      "                                                                 \n",
      "=================================================================\n",
      "Total params: 1,218,242\n",
      "Trainable params: 1,218,242\n",
      "Non-trainable params: 0\n",
      "_________________________________________________________________\n"
     ]
    }
   ],
   "source": [
    "ip = Input(shape=train_X_ex[0].shape)\n",
    "\n",
    "m = Conv2D(32, kernel_size=(4,4), activation='relu')(ip)\n",
    "#m = BatchNormalization()(m)\n",
    "m = MaxPooling2D(pool_size=(4,4))(m)\n",
    "\n",
    "m = Conv2D(32*2, kernel_size=(4,4), activation='relu')(ip)\n",
    "#m = BatchNormalization()(m)\n",
    "m = MaxPooling2D(pool_size=(4,4))(m)\n",
    "\n",
    "m = Conv2D(32*3, kernel_size=(4,4), activation='relu')(ip)\n",
    "#m = BatchNormalization()(m)\n",
    "m = MaxPooling2D(pool_size=(4,4))(m)\n",
    "\n",
    "m = Flatten()(m)\n",
    "\n",
    "m = Dense(32)(m)\n",
    "#m = BatchNormalization()(m)\n",
    "m = Activation(\"relu\")(m)\n",
    "\n",
    "op = Dense(2, activation='softmax')(m)\n",
    "\n",
    "model = Model(ip, op)\n",
    "\n",
    "model.summary()"
   ]
  },
  {
   "cell_type": "code",
   "execution_count": null,
   "id": "343bab18",
   "metadata": {},
   "outputs": [],
   "source": []
  },
  {
   "cell_type": "code",
   "execution_count": null,
   "id": "b1a95285",
   "metadata": {},
   "outputs": [],
   "source": [
    "hop_length = 160\n",
    "n_fft = 400\n",
    "\n",
    "file_path_ = \"/content/drive/MyDrive/Data\"\n",
    "\n",
    "audio_data = []\n",
    "for root, dirs, files in os.walk(file_path_):\n",
    "    for file in files:\n",
    "        if file.endswith('.wav'):\n",
    "            file_path = os.path.join(root, file)\n",
    "            y, sr = librosa.load(file_path, sr=None)\n",
    "            audio_data.append((file_path, y, sr))\n",
    "\n",
    "print(\"읽은 오디오 파일 수:\", len(audio_data))\n",
    "\n",
    "for file_path, signal, sample_rate in audio_data:\n",
    "    signal, sample_rate = librosa.load(file_path, sr=16000)\n",
    "    MFCCs = librosa.feature.mfcc(y=signal, sr=sample_rate, n_fft=n_fft, hop_length=hop_length, n_mfcc=100)\n",
    "    MFCCs = sklearn.preprocessing.scale(MFCCs, axis=1)\n",
    "    pad2d = lambda a, i: a[:, 0:i] if a.shape[1] > i else np.hstack((a, np.zeros((a.shape[0], i-a.shape[1]))))\n",
    "    padded_mfcc = pad2d(MFCCs, 400)\n",
    "\n",
    "print(\"MFCCs shape : \", MFCCs.shape)\n",
    "print(\"pad shape : \", padded_mfcc.shape)\n",
    "librosa.display.specshow(padded_mfcc, sr=16000, x_axis='time')"
   ]
  }
 ],
 "metadata": {
  "kernelspec": {
   "display_name": "Python 3 (ipykernel)",
   "language": "python",
   "name": "python3"
  },
  "language_info": {
   "codemirror_mode": {
    "name": "ipython",
    "version": 3
   },
   "file_extension": ".py",
   "mimetype": "text/x-python",
   "name": "python",
   "nbconvert_exporter": "python",
   "pygments_lexer": "ipython3",
   "version": "3.9.12"
  }
 },
 "nbformat": 4,
 "nbformat_minor": 5
}
