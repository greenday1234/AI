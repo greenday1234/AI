{
  "nbformat": 4,
  "nbformat_minor": 0,
  "metadata": {
    "colab": {
      "provenance": [],
      "authorship_tag": "ABX9TyP22pVOeErOQDRbyfCael0Z",
      "include_colab_link": true
    },
    "kernelspec": {
      "name": "python3",
      "display_name": "Python 3"
    },
    "language_info": {
      "name": "python"
    }
  },
  "cells": [
    {
      "cell_type": "markdown",
      "metadata": {
        "id": "view-in-github",
        "colab_type": "text"
      },
      "source": [
        "<a href=\"https://colab.research.google.com/github/greenday1234/AI/blob/main/TensorflowTest.ipynb\" target=\"_parent\"><img src=\"https://colab.research.google.com/assets/colab-badge.svg\" alt=\"Open In Colab\"/></a>"
      ]
    },
    {
      "cell_type": "markdown",
      "source": [
        "### tensorflow import\n",
        "print 는 굳이 없어도 됨"
      ],
      "metadata": {
        "id": "_6wcMySdBxc6"
      }
    },
    {
      "cell_type": "code",
      "execution_count": 3,
      "metadata": {
        "colab": {
          "base_uri": "https://localhost:8080/"
        },
        "id": "OkCswMOX-uzB",
        "outputId": "c8048938-5033-426a-abe6-404c14ef6638"
      },
      "outputs": [
        {
          "output_type": "stream",
          "name": "stdout",
          "text": [
            "TensorFlow version: 2.15.0\n"
          ]
        }
      ],
      "source": [
        "import tensorflow as tf\n",
        "print(\"TensorFlow version:\", tf.__version__)"
      ]
    },
    {
      "cell_type": "markdown",
      "source": [
        "### mnist 데이터 셋 사용\n",
        "학습 데이터와 테스트 데이터를 넣음\n",
        "\n",
        "샘플 데이터를 정수에서 부동 소수점으로 변환\n",
        "\n",
        "x 는 모델에 입력되는 데이터, y 는 모델이 예측하거나 분류해야 하는 정답 데이터"
      ],
      "metadata": {
        "id": "QpgomQiOB9r-"
      }
    },
    {
      "cell_type": "code",
      "source": [
        "mnist = tf.keras.datasets.mnist\n",
        "\n",
        "(x_train, y_train), (x_test, y_test) = mnist.load_data()\n",
        "x_train, x_test = x_train / 255.0, x_test / 255.0"
      ],
      "metadata": {
        "colab": {
          "base_uri": "https://localhost:8080/"
        },
        "id": "DoHgyAtm_OCD",
        "outputId": "9ac05c4c-9624-4cc9-97ca-ff9d1dda57fc"
      },
      "execution_count": 4,
      "outputs": [
        {
          "output_type": "stream",
          "name": "stdout",
          "text": [
            "Downloading data from https://storage.googleapis.com/tensorflow/tf-keras-datasets/mnist.npz\n",
            "11490434/11490434 [==============================] - 0s 0us/step\n"
          ]
        }
      ]
    },
    {
      "cell_type": "markdown",
      "source": [
        "### 모델 빌드하기\n",
        "훈련에 사용할 옵티마이저와 손실 함수 선택"
      ],
      "metadata": {
        "id": "P1QsRx3SDOBH"
      }
    },
    {
      "cell_type": "code",
      "source": [
        "model = tf.keras.models.Sequential([\n",
        "  tf.keras.layers.Flatten(input_shape=(28, 28)),\n",
        "  tf.keras.layers.Dense(128, activation='relu'),\n",
        "  tf.keras.layers.Dropout(0.2),\n",
        "  tf.keras.layers.Dense(10, activation='softmax')\n",
        "])\n",
        "\n",
        "model.compile(optimizer='adam',\n",
        "              loss='sparse_categorical_crossentropy',\n",
        "              metrics=['accuracy'])"
      ],
      "metadata": {
        "id": "b9qZkJYOAJAA"
      },
      "execution_count": 5,
      "outputs": []
    },
    {
      "cell_type": "markdown",
      "source": [
        "softmax 활성화 함수를 사용해 모델을 빌드했기 때문에 확률로 변환된 값이 출력됨\n",
        "\n",
        "즉 아래의 출력값은 0~9까지의 숫자에 대한 확률임"
      ],
      "metadata": {
        "id": "JMmybjrjE90C"
      }
    },
    {
      "cell_type": "code",
      "source": [
        "predictions = model(x_train[:1]).numpy()\n",
        "predictions"
      ],
      "metadata": {
        "colab": {
          "base_uri": "https://localhost:8080/"
        },
        "id": "iC7FE0G2ANcY",
        "outputId": "967b1730-ee8a-4578-83fd-b406ea2ceb3e"
      },
      "execution_count": 6,
      "outputs": [
        {
          "output_type": "execute_result",
          "data": {
            "text/plain": [
              "array([[0.08113955, 0.05181451, 0.06074198, 0.11051384, 0.14221302,\n",
              "        0.10530333, 0.08740725, 0.12551916, 0.14931297, 0.08603442]],\n",
              "      dtype=float32)"
            ]
          },
          "metadata": {},
          "execution_count": 6
        }
      ]
    },
    {
      "cell_type": "markdown",
      "source": [
        "### softmax 활성화 함수 사용\n",
        "\n",
        "하지만 이 방법은 정확하지 않고, 안정적인 손실 계산이 불가능해 권장 X\n",
        "\n"
      ],
      "metadata": {
        "id": "HwRjwUUmHCL0"
      }
    },
    {
      "cell_type": "code",
      "source": [
        "tf.nn.softmax(predictions).numpy()"
      ],
      "metadata": {
        "colab": {
          "base_uri": "https://localhost:8080/"
        },
        "id": "HRO9rmhKARxu",
        "outputId": "2448d3de-c4cd-439d-c435-ad109efb3bc8"
      },
      "execution_count": 7,
      "outputs": [
        {
          "output_type": "execute_result",
          "data": {
            "text/plain": [
              "array([[0.09808461, 0.09525004, 0.09610419, 0.1010085 , 0.10426168,\n",
              "        0.10048357, 0.09870131, 0.10253561, 0.10500457, 0.0985659 ]],\n",
              "      dtype=float32)"
            ]
          },
          "metadata": {},
          "execution_count": 7
        }
      ]
    },
    {
      "cell_type": "markdown",
      "source": [
        "이 손실은 실제 클래스의 음의 로그 확률과 같음\n",
        "\n",
        "즉 모델이 올바른 클래스를 확신하는 경우 손실은 0임\n",
        "\n"
      ],
      "metadata": {
        "id": "8oHVF-A4IpeM"
      }
    },
    {
      "cell_type": "code",
      "source": [
        "loss_fn = tf.keras.losses.SparseCategoricalCrossentropy(from_logits=True)"
      ],
      "metadata": {
        "id": "qocuo82LAYvT"
      },
      "execution_count": 8,
      "outputs": []
    },
    {
      "cell_type": "markdown",
      "source": [
        "훈련되지 않았기 때문에 초기 손실은 -tf.math.log(1/10) 이므로 2.3에 근접해야 함"
      ],
      "metadata": {
        "id": "ySxtV98eI8Hr"
      }
    },
    {
      "cell_type": "code",
      "source": [
        "loss_fn(y_train[:1], predictions).numpy()"
      ],
      "metadata": {
        "colab": {
          "base_uri": "https://localhost:8080/"
        },
        "id": "8k-fQkFtAa6H",
        "outputId": "f2850b1b-3a54-41ab-92a7-471a9343783b"
      },
      "execution_count": 9,
      "outputs": [
        {
          "output_type": "execute_result",
          "data": {
            "text/plain": [
              "2.297761"
            ]
          },
          "metadata": {},
          "execution_count": 9
        }
      ]
    },
    {
      "cell_type": "markdown",
      "source": [
        "### 훈련 시작 전에 loss 를 변경해 모델 컴파일 진행"
      ],
      "metadata": {
        "id": "CqhV1YkBJJlY"
      }
    },
    {
      "cell_type": "code",
      "source": [
        "model.compile(optimizer='adam',\n",
        "              loss=loss_fn,\n",
        "              metrics=['accuracy'])"
      ],
      "metadata": {
        "id": "Aih9L6QcAfsI"
      },
      "execution_count": 10,
      "outputs": []
    },
    {
      "cell_type": "markdown",
      "source": [
        "### 모델 학습\n",
        "epochs 는 데이터 셋을 몇 번 반복해 학습할 것인지 나타내는 매개변수임"
      ],
      "metadata": {
        "id": "09A1TE94Jla6"
      }
    },
    {
      "cell_type": "code",
      "source": [
        "model.fit(x_train, y_train, epochs=5)"
      ],
      "metadata": {
        "colab": {
          "base_uri": "https://localhost:8080/"
        },
        "id": "vFvlgF8rAiW7",
        "outputId": "73abeb5d-2edb-4657-b558-b348536c6c05"
      },
      "execution_count": 11,
      "outputs": [
        {
          "output_type": "stream",
          "name": "stdout",
          "text": [
            "Epoch 1/5\n"
          ]
        },
        {
          "output_type": "stream",
          "name": "stderr",
          "text": [
            "/usr/local/lib/python3.10/dist-packages/keras/src/backend.py:5727: UserWarning: \"`sparse_categorical_crossentropy` received `from_logits=True`, but the `output` argument was produced by a Softmax activation and thus does not represent logits. Was this intended?\n",
            "  output, from_logits = _get_logits(\n"
          ]
        },
        {
          "output_type": "stream",
          "name": "stdout",
          "text": [
            "1875/1875 [==============================] - 10s 4ms/step - loss: 0.2964 - accuracy: 0.9134\n",
            "Epoch 2/5\n",
            "1875/1875 [==============================] - 9s 5ms/step - loss: 0.1450 - accuracy: 0.9569\n",
            "Epoch 3/5\n",
            "1875/1875 [==============================] - 8s 4ms/step - loss: 0.1076 - accuracy: 0.9671\n",
            "Epoch 4/5\n",
            "1875/1875 [==============================] - 9s 5ms/step - loss: 0.0868 - accuracy: 0.9729\n",
            "Epoch 5/5\n",
            "1875/1875 [==============================] - 9s 5ms/step - loss: 0.0744 - accuracy: 0.9766\n"
          ]
        },
        {
          "output_type": "execute_result",
          "data": {
            "text/plain": [
              "<keras.src.callbacks.History at 0x7f3729c35b10>"
            ]
          },
          "metadata": {},
          "execution_count": 11
        }
      ]
    },
    {
      "cell_type": "markdown",
      "source": [
        "evaluate 는 모델의 성능을 평가하는 데 사용\n",
        "\n",
        "verbose=2 는 각 epoch 마다 훈련과정을 출력함"
      ],
      "metadata": {
        "id": "qMZg4NpDKByR"
      }
    },
    {
      "cell_type": "code",
      "source": [
        "model.fit(x_train, y_train, epochs=5)\n",
        "\n",
        "model.evaluate(x_test,  y_test, verbose=2)"
      ],
      "metadata": {
        "colab": {
          "base_uri": "https://localhost:8080/"
        },
        "id": "tGwdEX8JAyuU",
        "outputId": "de589944-492a-4a1d-ca74-37b72b155cf3"
      },
      "execution_count": 15,
      "outputs": [
        {
          "output_type": "stream",
          "name": "stdout",
          "text": [
            "Epoch 1/5\n",
            "1875/1875 [==============================] - 11s 6ms/step - loss: 0.0408 - accuracy: 0.9865\n",
            "Epoch 2/5\n",
            "1875/1875 [==============================] - 11s 6ms/step - loss: 0.0386 - accuracy: 0.9873\n",
            "Epoch 3/5\n",
            "1875/1875 [==============================] - 9s 5ms/step - loss: 0.0365 - accuracy: 0.9876\n",
            "Epoch 4/5\n",
            "1875/1875 [==============================] - 11s 6ms/step - loss: 0.0333 - accuracy: 0.9892\n",
            "Epoch 5/5\n",
            "1875/1875 [==============================] - 10s 5ms/step - loss: 0.0322 - accuracy: 0.9891\n",
            "313/313 - 1s - loss: 0.0759 - accuracy: 0.9811 - 582ms/epoch - 2ms/step\n"
          ]
        },
        {
          "output_type": "execute_result",
          "data": {
            "text/plain": [
              "[0.07587451487779617, 0.9811000227928162]"
            ]
          },
          "metadata": {},
          "execution_count": 15
        }
      ]
    },
    {
      "cell_type": "markdown",
      "source": [
        "모델이 확률을 반환하게 하려면 해당 모델을 래핑하고 softmax 를 첨부하면 됨"
      ],
      "metadata": {
        "id": "wlbEpgU5KxhP"
      }
    },
    {
      "cell_type": "code",
      "source": [
        "probability_model = tf.keras.Sequential([\n",
        "  model,\n",
        "  tf.keras.layers.Softmax()\n",
        "])"
      ],
      "metadata": {
        "id": "3MV-m5bLA8Ez"
      },
      "execution_count": 13,
      "outputs": []
    },
    {
      "cell_type": "code",
      "source": [
        "probability_model(x_test[:5])"
      ],
      "metadata": {
        "colab": {
          "base_uri": "https://localhost:8080/"
        },
        "id": "P_jkjEZXBQs1",
        "outputId": "7cf7171f-a759-4260-da94-8ab8de59bf8f"
      },
      "execution_count": 14,
      "outputs": [
        {
          "output_type": "execute_result",
          "data": {
            "text/plain": [
              "<tf.Tensor: shape=(5, 10), dtype=float32, numpy=\n",
              "array([[0.08533682, 0.08533682, 0.08533682, 0.08533733, 0.08533682,\n",
              "        0.08533682, 0.08533682, 0.2319681 , 0.08533682, 0.08533682],\n",
              "       [0.08533675, 0.08533682, 0.2319692 , 0.08533676, 0.08533675,\n",
              "        0.08533675, 0.08533675, 0.08533675, 0.08533675, 0.08533675],\n",
              "       [0.08533756, 0.23195629, 0.08533935, 0.08533758, 0.08533766,\n",
              "        0.08533757, 0.08533758, 0.08533962, 0.0853392 , 0.08533756],\n",
              "       [0.23194528, 0.08533826, 0.08534851, 0.08533826, 0.08533829,\n",
              "        0.08533826, 0.08533829, 0.08533833, 0.08533826, 0.08533827],\n",
              "       [0.08533712, 0.08533712, 0.08533712, 0.08533712, 0.23196347,\n",
              "        0.08533712, 0.08533712, 0.08533714, 0.08533712, 0.08533961]],\n",
              "      dtype=float32)>"
            ]
          },
          "metadata": {},
          "execution_count": 14
        }
      ]
    }
  ]
}